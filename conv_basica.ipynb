{
  "cells": [
    {
      "cell_type": "code",
      "execution_count": null,
      "metadata": {
        "id": "OiiEXpVIUwMU"
      },
      "outputs": [],
      "source": [
        "import numpy as np\n",
        "import tensorflow as tf\n",
        "import tensorflow.keras.layers as LK\n",
        "import tensorflow.keras.models as MK"
      ]
    },
    {
      "cell_type": "code",
      "execution_count": null,
      "metadata": {
        "id": "UEqy88V7Zi1O"
      },
      "outputs": [],
      "source": [
        "#Vamos a realizar una estructura basica de convnet\n",
        "inputs = LK.Input(shape=(32,32,3))\n",
        "conv1 = LK.Conv2D(8, (5,5),padding='valid',activation='relu')(inputs)\n",
        "pool1 = LK.MaxPool2D((2,2),(2,2))(conv1)\n",
        "conv2 = LK.Conv2D(16,(5,5), padding='valid',activation='relu')(pool1)\n",
        "pool2 = LK.MaxPool2D((2,2),(2,2))(conv2)\n",
        "flat = LK.Flatten()(pool2)\n",
        "\n",
        "FC1 = LK.Dense(120,activation='relu')(flat)\n",
        "FC2 =LK.Dense(84,activation='relu')(FC1)\n",
        "outputs = LK.Dense(10,activation='softmax')(FC2)\n",
        "modelo = MK.Model(inputs, outputs)\n",
        "\n"
      ]
    },
    {
      "cell_type": "code",
      "execution_count": null,
      "metadata": {
        "colab": {
          "base_uri": "https://localhost:8080/"
        },
        "id": "dOgUZbv8fgsy",
        "outputId": "8f93a30d-3cc2-4d7b-fc15-fd1f87ec73e8"
      },
      "outputs": [
        {
          "name": "stdout",
          "output_type": "stream",
          "text": [
            "Model: \"model\"\n",
            "_________________________________________________________________\n",
            " Layer (type)                Output Shape              Param #   \n",
            "=================================================================\n",
            " input_1 (InputLayer)        [(None, 32, 32, 3)]       0         \n",
            "                                                                 \n",
            " conv2d (Conv2D)             (None, 28, 28, 8)         608       \n",
            "                                                                 \n",
            " max_pooling2d (MaxPooling2D  (None, 14, 14, 8)        0         \n",
            " )                                                               \n",
            "                                                                 \n",
            " conv2d_1 (Conv2D)           (None, 10, 10, 16)        3216      \n",
            "                                                                 \n",
            " max_pooling2d_1 (MaxPooling  (None, 5, 5, 16)         0         \n",
            " 2D)                                                             \n",
            "                                                                 \n",
            " flatten (Flatten)           (None, 400)               0         \n",
            "                                                                 \n",
            " dense (Dense)               (None, 120)               48120     \n",
            "                                                                 \n",
            " dense_1 (Dense)             (None, 84)                10164     \n",
            "                                                                 \n",
            " dense_2 (Dense)             (None, 10)                850       \n",
            "                                                                 \n",
            "=================================================================\n",
            "Total params: 62,958\n",
            "Trainable params: 62,958\n",
            "Non-trainable params: 0\n",
            "_________________________________________________________________\n"
          ]
        }
      ],
      "source": [
        "modelo.summary()"
      ]
    },
    {
      "cell_type": "code",
      "execution_count": null,
      "metadata": {
        "id": "CIF7StzVh4DX"
      },
      "outputs": [],
      "source": [
        "mnist = tf.keras.datasets.mnist"
      ]
    },
    {
      "cell_type": "code",
      "execution_count": null,
      "metadata": {
        "id": "j9f6rh0jiNYA"
      },
      "outputs": [],
      "source": [
        "(x_train, y_train), (x_test, y_test)= mnist.load_data()"
      ]
    },
    {
      "cell_type": "code",
      "execution_count": null,
      "metadata": {
        "colab": {
          "base_uri": "https://localhost:8080/"
        },
        "id": "XpbNFB2qiqZy",
        "outputId": "9edb7750-d8f4-4ac9-fc6d-43af62197766"
      },
      "outputs": [
        {
          "name": "stdout",
          "output_type": "stream",
          "text": [
            "Tenemos  (60000, 28, 28) imagenes de entrenamiento con (60000,) etiquetas\n",
            "Tenemos  (10000, 28, 28) imagenes de validacion con (10000,) etiquetas\n"
          ]
        }
      ],
      "source": [
        "print(\"Tenemos  {0} imagenes de entrenamiento con {1} etiquetas\".format(x_train.shape, y_train.shape) )\n",
        "print(\"Tenemos  {0} imagenes de validacion con {1} etiquetas\".format(x_test.shape, y_test.shape) )"
      ]
    },
    {
      "cell_type": "code",
      "execution_count": null,
      "metadata": {
        "colab": {
          "base_uri": "https://localhost:8080/",
          "height": 122
        },
        "id": "fzPP5DLvkwCW",
        "outputId": "25904d35-4aae-450f-ab1b-7b6bee48f959"
      },
      "outputs": [
        {
          "data": {
            "image/png": "[encoded data removed]",
            "text/plain": [
              "<Figure size 432x288 with 5 Axes>"
            ]
          },
          "metadata": {
            "needs_background": "light"
          },
          "output_type": "display_data"
        }
      ],
      "source": [
        "#Vamos a mirar que imagenes se obtienen de esos dataset\n",
        "from matplotlib import pyplot as plt \n",
        "for i in range(5):\n",
        "  plt.subplot(1,5,i+1)\n",
        "  plt.imshow(x_train[i], cmap='gray')\n",
        "  plt.gca().set_title('Label' + str(y_train[i]))\n",
        "plt.show()"
      ]
    },
    {
      "cell_type": "code",
      "execution_count": null,
      "metadata": {
        "colab": {
          "base_uri": "https://localhost:8080/"
        },
        "id": "p0CIWF8tlweI",
        "outputId": "eb282e5a-cd98-428e-e3ff-32aa78244788"
      },
      "outputs": [
        {
          "name": "stdout",
          "output_type": "stream",
          "text": [
            "Tenemos  (60000, 28, 28, 1) imagenes de entrenamiento con (60000,) etiquetas\n",
            "Tenemos  (10000, 28, 28, 1) imagenes de validacion con (10000,) etiquetas\n"
          ]
        }
      ],
      "source": [
        "#Vamos a normalizar las imagenes\n",
        "#Vamos a hacer un reshape para que coincida con el tensor de entrada a la red\n",
        "x_train = x_train.reshape(x_train.shape[0],28,28,1)\n",
        "x_test = x_test.reshape(x_test.shape[0],28,28,1)\n",
        "print(\"Tenemos  {0} imagenes de entrenamiento con {1} etiquetas\".format(x_train.shape, y_train.shape) )\n",
        "print(\"Tenemos  {0} imagenes de validacion con {1} etiquetas\".format(x_test.shape, y_test.shape) )\n",
        "#Normalizando\n",
        "x_train= (x_train-x_train.min())/(x_train.max()-x_train.min())\n",
        "x_test= (x_test-x_test.min())/(x_test.max()-x_test.min())"
      ]
    },
    {
      "cell_type": "code",
      "execution_count": null,
      "metadata": {
        "colab": {
          "base_uri": "https://localhost:8080/"
        },
        "id": "FAdaJ1WwoTAx",
        "outputId": "aa5a817e-f7cd-4030-f297-51b3e017f6a9"
      },
      "outputs": [
        {
          "name": "stdout",
          "output_type": "stream",
          "text": [
            "Model: \"model_1\"\n",
            "_________________________________________________________________\n",
            " Layer (type)                Output Shape              Param #   \n",
            "=================================================================\n",
            " input_2 (InputLayer)        [(None, 28, 28, 1)]       0         \n",
            "                                                                 \n",
            " conv2d_2 (Conv2D)           (None, 24, 24, 8)         208       \n",
            "                                                                 \n",
            " max_pooling2d_2 (MaxPooling  (None, 12, 12, 8)        0         \n",
            " 2D)                                                             \n",
            "                                                                 \n",
            " conv2d_3 (Conv2D)           (None, 8, 8, 16)          3216      \n",
            "                                                                 \n",
            " max_pooling2d_3 (MaxPooling  (None, 4, 4, 16)         0         \n",
            " 2D)                                                             \n",
            "                                                                 \n",
            " flatten_1 (Flatten)         (None, 256)               0         \n",
            "                                                                 \n",
            " dense_3 (Dense)             (None, 120)               30840     \n",
            "                                                                 \n",
            " dense_4 (Dense)             (None, 84)                10164     \n",
            "                                                                 \n",
            " dense_5 (Dense)             (None, 10)                850       \n",
            "                                                                 \n",
            "=================================================================\n",
            "Total params: 45,278\n",
            "Trainable params: 45,278\n",
            "Non-trainable params: 0\n",
            "_________________________________________________________________\n"
          ]
        }
      ],
      "source": [
        "#Vamos a realizar una estructura basica de convnet\n",
        "inputs = LK.Input(shape=(28,28,1))\n",
        "conv1 = LK.Conv2D(8, (5,5),padding='valid',activation='relu')(inputs)\n",
        "pool1 = LK.MaxPool2D((2,2),(2,2))(conv1)\n",
        "conv2 = LK.Conv2D(16,(5,5), padding='valid',activation='relu')(pool1)\n",
        "pool2 = LK.MaxPool2D((2,2),(2,2))(conv2)\n",
        "flat = LK.Flatten()(pool2)\n",
        "FC1 = LK.Dense(120,activation='relu')(flat)\n",
        "FC2 =LK.Dense(84,activation='relu')(FC1)\n",
        "outputs = LK.Dense(10,activation='softmax')(FC2)\n",
        "modelo = MK.Model(inputs, outputs)\n",
        "modelo.summary()\n"
      ]
    }
  ],
  "metadata": {
    "colab": {
      "name": "conv_basica.ipynb",
      "provenance": []
    },
    "kernelspec": {
      "display_name": "Python 3",
      "name": "python3"
    },
    "language_info": {
      "name": "python"
    }
  },
  "nbformat": 4,
  "nbformat_minor": 0
}
